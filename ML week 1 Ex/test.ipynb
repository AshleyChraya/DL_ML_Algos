{
 "cells": [
  {
   "cell_type": "code",
   "execution_count": 5,
   "metadata": {},
   "outputs": [],
   "source": [
    "def func1a(stddev, n, m):\n",
    "    \"\"\"Function to generate m*n independent variables, n*1 dependent variable, and coefficient matrix\n",
    "\n",
    "    Args:\n",
    "        stddev (float): spread of noise in the output variable\n",
    "        n (int): size of the data set\n",
    "        m (int): number of indepedent variables\n",
    "\n",
    "    Returns:\n",
    "        array: independent, dependent variables matrix and coefficient matrix\n",
    "    \"\"\"\n",
    "    x_ones = np.ones((n, 1))  # first column of ones\n",
    "    x_random = np.random.rand(n, m - 1)  # (n*m-1) matrix of random Real numbers\n",
    "    X = np.concatenate((x_ones, x_random), axis=1)  # n rows and m columns where 1st column is of ones\n",
    "    beta = np.random.rand(m, 1)  # Coefficients\n",
    "    error = np.random.normal(loc=0, scale=stddev, size=(n, 1))\n",
    "    Y = np.matmul(X, beta) + error  # X*beta i.e. matrix multiplication of (n*m) and (m * 1) shape= Y shape (n*1)\n",
    "    return X, Y, beta\n"
   ]
  },
  {
   "cell_type": "code",
   "execution_count": 7,
   "metadata": {},
   "outputs": [],
   "source": [
    "def computeCost(X, y, theta):\n",
    "    m = len(y)  # number of training examples\n",
    "    diff = np.matmul(X, theta) - y\n",
    "    J = 1 / (2 * m) * np.matmul(diff, diff)\n",
    "\n",
    "    return J\n"
   ]
  },
  {
   "cell_type": "code",
   "execution_count": 8,
   "metadata": {},
   "outputs": [],
   "source": [
    "def gradientDescent(X, y, theta, alpha, num_iters):\n",
    "    # Initialize some useful values\n",
    "    m = len(y)  # number of training examples\n",
    "    J_history = []  # repeat until convergance\n",
    "    for i in range(num_iters):\n",
    "        hc = np.matmul(X, theta) - y\n",
    "        theta -= alpha / m * np.matmul(X.transpose(), hc)\n",
    "        # Save the cost J in every iteration\n",
    "        J_history.append(computeCost(X, y, theta))\n",
    "        return theta, J_history\n"
   ]
  },
  {
   "cell_type": "code",
   "execution_count": 37,
   "metadata": {},
   "outputs": [],
   "source": [
    "def subsets(v, l):\n",
    "    return _subsets(v, 0, l, [])\n",
    "\n",
    "\n",
    "def _subsets(v, k, l, acc):\n",
    "    if l == 0:\n",
    "        return [acc]\n",
    "    else:\n",
    "        r = []\n",
    "        for i in range(k, len(v)):\n",
    "            print(v[i])\n",
    "            # Take i-th position and continue with subsets of length l - 1:\n",
    "            r.extend(_subsets(v, i + 1, l - 1, acc + [v[i]]))\n",
    "            print(r)\n",
    "        return r\n"
   ]
  },
  {
   "cell_type": "code",
   "execution_count": 5,
   "metadata": {},
   "outputs": [
    {
     "data": {
      "text/plain": [
       "array([[1],\n",
       "       [1],\n",
       "       [1],\n",
       "       [1],\n",
       "       [1],\n",
       "       [1],\n",
       "       [1],\n",
       "       [1],\n",
       "       [1],\n",
       "       [1]])"
      ]
     },
     "execution_count": 5,
     "metadata": {},
     "output_type": "execute_result"
    }
   ],
   "source": [
    "import numpy as np\n",
    "\n",
    "n = 10\n",
    "m = 5\n",
    "\n",
    "x_ones = np.ones((n, 1))  # first column of ones\n",
    "np.random.seed(1998)\n",
    "x_random = np.random.rand(n, m)  # (n*m) matrix of random Real numbers\n",
    "X = np.concatenate((x_ones, x_random), axis=1)  # n rows and m+1 columns where 1st column is of ones\n",
    "beta = np.random.rand(m + 1, 1)  # Coefficients\n",
    "# error = np.random.normal(loc=0, scale=stddev, size=(n, 1))\n",
    "# Y = np.array(\n",
    "#     [1 if  > 0.5 else 0]\n",
    "# )  # X*beta i.e. matrix multiplication of (n*m) and (m * 1) shape= Y shape (n*1)\n",
    "Y = np.where(1 / (1 + np.exp(-np.matmul(X, beta))) > 0.5, 1, 0)\n",
    "# print(X)\n",
    "# print(Y)\n"
   ]
  },
  {
   "cell_type": "code",
   "execution_count": 18,
   "metadata": {},
   "outputs": [
    {
     "name": "stdout",
     "output_type": "stream",
     "text": [
      "9\n",
      "2\n",
      "7\n",
      "4\n",
      "6\n"
     ]
    },
    {
     "data": {
      "text/plain": [
       "array([1, 0, 0, 0, 0, 1, 0, 1, 0, 0, 1])"
      ]
     },
     "execution_count": 18,
     "metadata": {},
     "output_type": "execute_result"
    }
   ],
   "source": [
    "a = np.array([1, 0, 1, 0, 1, 1, 1, 0, 0, 1, 1])\n",
    "# for i in range(len(a)):\n",
    "import random\n",
    "\n",
    "for i in random.sample(range(0, 11), 5):\n",
    "    print(i)\n",
    "    if a[i] == 1:\n",
    "        a[i] = 0\n",
    "    else:\n",
    "        a[i] = 1\n",
    "# np.where(a[np.random.randint(0,8,5)]==1,0,1)\n",
    "a\n"
   ]
  },
  {
   "cell_type": "code",
   "execution_count": 14,
   "metadata": {},
   "outputs": [
    {
     "name": "stdout",
     "output_type": "stream",
     "text": [
      "0\n",
      "500\n",
      "1000\n",
      "1500\n"
     ]
    },
    {
     "data": {
      "image/png": "[encoded data removed]",
      "text/plain": [
       "<Figure size 640x480 with 1 Axes>"
      ]
     },
     "metadata": {},
     "output_type": "display_data"
    },
    {
     "name": "stdout",
     "output_type": "stream",
     "text": [
      "\n",
      "Mean of the iterations 157.7235\n",
      "\n",
      "Std dev of the iterations 99.00384865120144\n"
     ]
    }
   ],
   "source": [
    "from statistics import stdev\n",
    "import numpy as np\n",
    "import matplotlib.pyplot as plt\n",
    "\n",
    "x = np.arange(1, 11)\n",
    "y = np.arange(1, 11)\n",
    "X, Y = np.meshgrid(x, y)\n",
    "n = 2000\n",
    "store = np.zeros(n)\n",
    "\n",
    "for j in range(n):\n",
    "    test = np.array([65, 75, 85, 95, 33, 34, 35, 29, 39, 49, 59])\n",
    "    if j % 500 == 0:\n",
    "        print(j)\n",
    "    for i in range(1, 1111):\n",
    "        rand = random.sample(range(1, 101),1)[0]\n",
    "        #  np.random.randint(1, 101)\n",
    "\n",
    "        if rand in test:\n",
    "            test = np.delete(test, np.where(test == rand)[0])\n",
    "            xx = True\n",
    "            while xx:\n",
    "                up = rand + 10\n",
    "                below = rand - 10\n",
    "                right = rand + 1\n",
    "                left = rand - 1\n",
    "                if up in test:\n",
    "                    test = np.delete(test, np.where(test == up)[0])\n",
    "                    rand = up\n",
    "                if below in test:\n",
    "                    test = np.delete(test, np.where(test == below)[0])\n",
    "                    rand = below\n",
    "                if left in test:\n",
    "                    test = np.delete(test, np.where(test == left)[0])\n",
    "                    rand = left\n",
    "                if right in test:\n",
    "                    test = np.delete(test, np.where(test == right)[0])\n",
    "                    rand = right\n",
    "                else:\n",
    "                    xx = False\n",
    "\n",
    "            if len(test) == 0:\n",
    "                store[j] = i\n",
    "                break\n",
    "binsize = 50\n",
    "n1, bins1, patches1 = plt.hist(store, bins=binsize, density=True)\n",
    "plt.xlabel(\"Total number of iterations to check test array\")\n",
    "plt.ylabel(\"PDF\")\n",
    "plt.title(\"Histogram\")\n",
    "plt.show()\n",
    "print(\"\\nMean of the iterations\", np.mean(store))\n",
    "print(\"\\nStd dev of the iterations\", np.std(store))\n"
   ]
  },
  {
   "cell_type": "code",
   "execution_count": 11,
   "metadata": {},
   "outputs": [
    {
     "data": {
      "text/plain": [
       "int"
      ]
     },
     "execution_count": 11,
     "metadata": {},
     "output_type": "execute_result"
    }
   ],
   "source": [
    "import random\n",
    "type(random.sample(range(1, 101),1)[0])"
   ]
  },
  {
   "cell_type": "code",
   "execution_count": 102,
   "metadata": {},
   "outputs": [
    {
     "data": {
      "image/png": "[encoded data removed]",
      "text/plain": [
       "<Figure size 640x480 with 1 Axes>"
      ]
     },
     "metadata": {},
     "output_type": "display_data"
    }
   ],
   "source": [
    "\n",
    "fig = plt.figure()\n",
    "ax = fig.add_subplot(1, 1, 1)\n",
    "\n",
    "# Major ticks every 20, minor ticks every 5\n",
    "major_ticks = np.arange(0, 11, 1)\n",
    "minor_ticks = np.arange(0, 11, 1)\n",
    "\n",
    "ax.set_xticks(major_ticks)\n",
    "ax.set_xticks(minor_ticks, minor=True)\n",
    "ax.set_yticks(major_ticks)\n",
    "ax.set_yticks(minor_ticks, minor=True)\n",
    "\n",
    "# ax.grid(color='red', linestyle='-.', linewidth=0.7)\n",
    "ax.grid(which='both')\n",
    "ax.set_xlim(1,10)\n",
    "ax.set_ylim(1,10)\n",
    "plt.show()\n"
   ]
  }
 ],
 "metadata": {
  "kernelspec": {
   "display_name": "Python 3.10.4 64-bit",
   "language": "python",
   "name": "python3"
  },
  "language_info": {
   "codemirror_mode": {
    "name": "ipython",
    "version": 3
   },
   "file_extension": ".py",
   "mimetype": "text/x-python",
   "name": "python",
   "nbconvert_exporter": "python",
   "pygments_lexer": "ipython3",
   "version": "3.10.4"
  },
  "orig_nbformat": 4,
  "vscode": {
   "interpreter": {
    "hash": "916dbcbb3f70747c44a77c7bcd40155683ae19c65e1c03b4aa3499c5328201f1"
   }
  }
 },
 "nbformat": 4,
 "nbformat_minor": 2
}
